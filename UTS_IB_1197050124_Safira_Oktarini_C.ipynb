{
  "nbformat": 4,
  "nbformat_minor": 0,
  "metadata": {
    "colab": {
      "name": "UTS IB-1197050124-Safira Oktarini-C",
      "provenance": [],
      "collapsed_sections": []
    },
    "kernelspec": {
      "name": "python3",
      "display_name": "Python 3"
    },
    "language_info": {
      "name": "python"
    }
  },
  "cells": [
    {
      "cell_type": "code",
      "metadata": {
        "colab": {
          "base_uri": "https://localhost:8080/"
        },
        "id": "RM7Oo3QtZwFY",
        "outputId": "c5c39eb4-654e-464f-ad46-49d245b11711"
      },
      "source": [
        "print (\"Nama : Safira Oktarini\")\n",
        "\n",
        "print (\"NIM : 1197050124\")\n",
        "\n",
        "print(\"Kelas: c\")\n"
      ],
      "execution_count": null,
      "outputs": [
        {
          "output_type": "stream",
          "name": "stdout",
          "text": [
            "Nama : Safira Oktarini\n",
            "NIM : 1197050124\n",
            "Kelas: c\n"
          ]
        }
      ]
    },
    {
      "cell_type": "code",
      "metadata": {
        "colab": {
          "base_uri": "https://localhost:8080/"
        },
        "id": "KBHb3onseWx1",
        "outputId": "987e05c8-5c89-4ab0-9795-67bffb7611c2"
      },
      "source": [
        "pip install -U scikit-fuzzy"
      ],
      "execution_count": null,
      "outputs": [
        {
          "output_type": "stream",
          "name": "stdout",
          "text": [
            "Collecting scikit-fuzzy\n",
            "  Downloading scikit-fuzzy-0.4.2.tar.gz (993 kB)\n",
            "\u001b[?25l\r\u001b[K     |▎                               | 10 kB 22.7 MB/s eta 0:00:01\r\u001b[K     |▋                               | 20 kB 28.6 MB/s eta 0:00:01\r\u001b[K     |█                               | 30 kB 13.7 MB/s eta 0:00:01\r\u001b[K     |█▎                              | 40 kB 11.1 MB/s eta 0:00:01\r\u001b[K     |█▋                              | 51 kB 5.4 MB/s eta 0:00:01\r\u001b[K     |██                              | 61 kB 5.8 MB/s eta 0:00:01\r\u001b[K     |██▎                             | 71 kB 5.1 MB/s eta 0:00:01\r\u001b[K     |██▋                             | 81 kB 5.7 MB/s eta 0:00:01\r\u001b[K     |███                             | 92 kB 5.8 MB/s eta 0:00:01\r\u001b[K     |███▎                            | 102 kB 5.1 MB/s eta 0:00:01\r\u001b[K     |███▋                            | 112 kB 5.1 MB/s eta 0:00:01\r\u001b[K     |████                            | 122 kB 5.1 MB/s eta 0:00:01\r\u001b[K     |████▎                           | 133 kB 5.1 MB/s eta 0:00:01\r\u001b[K     |████▋                           | 143 kB 5.1 MB/s eta 0:00:01\r\u001b[K     |█████                           | 153 kB 5.1 MB/s eta 0:00:01\r\u001b[K     |█████▎                          | 163 kB 5.1 MB/s eta 0:00:01\r\u001b[K     |█████▋                          | 174 kB 5.1 MB/s eta 0:00:01\r\u001b[K     |██████                          | 184 kB 5.1 MB/s eta 0:00:01\r\u001b[K     |██████▎                         | 194 kB 5.1 MB/s eta 0:00:01\r\u001b[K     |██████▋                         | 204 kB 5.1 MB/s eta 0:00:01\r\u001b[K     |███████                         | 215 kB 5.1 MB/s eta 0:00:01\r\u001b[K     |███████▎                        | 225 kB 5.1 MB/s eta 0:00:01\r\u001b[K     |███████▋                        | 235 kB 5.1 MB/s eta 0:00:01\r\u001b[K     |████████                        | 245 kB 5.1 MB/s eta 0:00:01\r\u001b[K     |████████▎                       | 256 kB 5.1 MB/s eta 0:00:01\r\u001b[K     |████████▋                       | 266 kB 5.1 MB/s eta 0:00:01\r\u001b[K     |█████████                       | 276 kB 5.1 MB/s eta 0:00:01\r\u001b[K     |█████████▎                      | 286 kB 5.1 MB/s eta 0:00:01\r\u001b[K     |█████████▋                      | 296 kB 5.1 MB/s eta 0:00:01\r\u001b[K     |██████████                      | 307 kB 5.1 MB/s eta 0:00:01\r\u001b[K     |██████████▏                     | 317 kB 5.1 MB/s eta 0:00:01\r\u001b[K     |██████████▌                     | 327 kB 5.1 MB/s eta 0:00:01\r\u001b[K     |██████████▉                     | 337 kB 5.1 MB/s eta 0:00:01\r\u001b[K     |███████████▏                    | 348 kB 5.1 MB/s eta 0:00:01\r\u001b[K     |███████████▌                    | 358 kB 5.1 MB/s eta 0:00:01\r\u001b[K     |███████████▉                    | 368 kB 5.1 MB/s eta 0:00:01\r\u001b[K     |████████████▏                   | 378 kB 5.1 MB/s eta 0:00:01\r\u001b[K     |████████████▌                   | 389 kB 5.1 MB/s eta 0:00:01\r\u001b[K     |████████████▉                   | 399 kB 5.1 MB/s eta 0:00:01\r\u001b[K     |█████████████▏                  | 409 kB 5.1 MB/s eta 0:00:01\r\u001b[K     |█████████████▌                  | 419 kB 5.1 MB/s eta 0:00:01\r\u001b[K     |█████████████▉                  | 430 kB 5.1 MB/s eta 0:00:01\r\u001b[K     |██████████████▏                 | 440 kB 5.1 MB/s eta 0:00:01\r\u001b[K     |██████████████▌                 | 450 kB 5.1 MB/s eta 0:00:01\r\u001b[K     |██████████████▉                 | 460 kB 5.1 MB/s eta 0:00:01\r\u001b[K     |███████████████▏                | 471 kB 5.1 MB/s eta 0:00:01\r\u001b[K     |███████████████▌                | 481 kB 5.1 MB/s eta 0:00:01\r\u001b[K     |███████████████▉                | 491 kB 5.1 MB/s eta 0:00:01\r\u001b[K     |████████████████▏               | 501 kB 5.1 MB/s eta 0:00:01\r\u001b[K     |████████████████▌               | 512 kB 5.1 MB/s eta 0:00:01\r\u001b[K     |████████████████▉               | 522 kB 5.1 MB/s eta 0:00:01\r\u001b[K     |█████████████████▏              | 532 kB 5.1 MB/s eta 0:00:01\r\u001b[K     |█████████████████▌              | 542 kB 5.1 MB/s eta 0:00:01\r\u001b[K     |█████████████████▉              | 552 kB 5.1 MB/s eta 0:00:01\r\u001b[K     |██████████████████▏             | 563 kB 5.1 MB/s eta 0:00:01\r\u001b[K     |██████████████████▌             | 573 kB 5.1 MB/s eta 0:00:01\r\u001b[K     |██████████████████▉             | 583 kB 5.1 MB/s eta 0:00:01\r\u001b[K     |███████████████████▏            | 593 kB 5.1 MB/s eta 0:00:01\r\u001b[K     |███████████████████▌            | 604 kB 5.1 MB/s eta 0:00:01\r\u001b[K     |███████████████████▉            | 614 kB 5.1 MB/s eta 0:00:01\r\u001b[K     |████████████████████            | 624 kB 5.1 MB/s eta 0:00:01\r\u001b[K     |████████████████████▍           | 634 kB 5.1 MB/s eta 0:00:01\r\u001b[K     |████████████████████▊           | 645 kB 5.1 MB/s eta 0:00:01\r\u001b[K     |█████████████████████           | 655 kB 5.1 MB/s eta 0:00:01\r\u001b[K     |█████████████████████▍          | 665 kB 5.1 MB/s eta 0:00:01\r\u001b[K     |█████████████████████▊          | 675 kB 5.1 MB/s eta 0:00:01\r\u001b[K     |██████████████████████          | 686 kB 5.1 MB/s eta 0:00:01\r\u001b[K     |██████████████████████▍         | 696 kB 5.1 MB/s eta 0:00:01\r\u001b[K     |██████████████████████▊         | 706 kB 5.1 MB/s eta 0:00:01\r\u001b[K     |███████████████████████         | 716 kB 5.1 MB/s eta 0:00:01\r\u001b[K     |███████████████████████▍        | 727 kB 5.1 MB/s eta 0:00:01\r\u001b[K     |███████████████████████▊        | 737 kB 5.1 MB/s eta 0:00:01\r\u001b[K     |████████████████████████        | 747 kB 5.1 MB/s eta 0:00:01\r\u001b[K     |████████████████████████▍       | 757 kB 5.1 MB/s eta 0:00:01\r\u001b[K     |████████████████████████▊       | 768 kB 5.1 MB/s eta 0:00:01\r\u001b[K     |█████████████████████████       | 778 kB 5.1 MB/s eta 0:00:01\r\u001b[K     |█████████████████████████▍      | 788 kB 5.1 MB/s eta 0:00:01\r\u001b[K     |█████████████████████████▊      | 798 kB 5.1 MB/s eta 0:00:01\r\u001b[K     |██████████████████████████      | 808 kB 5.1 MB/s eta 0:00:01\r\u001b[K     |██████████████████████████▍     | 819 kB 5.1 MB/s eta 0:00:01\r\u001b[K     |██████████████████████████▊     | 829 kB 5.1 MB/s eta 0:00:01\r\u001b[K     |███████████████████████████     | 839 kB 5.1 MB/s eta 0:00:01\r\u001b[K     |███████████████████████████▍    | 849 kB 5.1 MB/s eta 0:00:01\r\u001b[K     |███████████████████████████▊    | 860 kB 5.1 MB/s eta 0:00:01\r\u001b[K     |████████████████████████████    | 870 kB 5.1 MB/s eta 0:00:01\r\u001b[K     |████████████████████████████▍   | 880 kB 5.1 MB/s eta 0:00:01\r\u001b[K     |████████████████████████████▊   | 890 kB 5.1 MB/s eta 0:00:01\r\u001b[K     |█████████████████████████████   | 901 kB 5.1 MB/s eta 0:00:01\r\u001b[K     |█████████████████████████████▍  | 911 kB 5.1 MB/s eta 0:00:01\r\u001b[K     |█████████████████████████████▊  | 921 kB 5.1 MB/s eta 0:00:01\r\u001b[K     |██████████████████████████████  | 931 kB 5.1 MB/s eta 0:00:01\r\u001b[K     |██████████████████████████████▎ | 942 kB 5.1 MB/s eta 0:00:01\r\u001b[K     |██████████████████████████████▋ | 952 kB 5.1 MB/s eta 0:00:01\r\u001b[K     |███████████████████████████████ | 962 kB 5.1 MB/s eta 0:00:01\r\u001b[K     |███████████████████████████████▎| 972 kB 5.1 MB/s eta 0:00:01\r\u001b[K     |███████████████████████████████▋| 983 kB 5.1 MB/s eta 0:00:01\r\u001b[K     |████████████████████████████████| 993 kB 5.1 MB/s eta 0:00:01\r\u001b[K     |████████████████████████████████| 993 kB 5.1 MB/s \n",
            "\u001b[?25hRequirement already satisfied: numpy>=1.6.0 in /usr/local/lib/python3.7/dist-packages (from scikit-fuzzy) (1.19.5)\n",
            "Requirement already satisfied: scipy>=0.9.0 in /usr/local/lib/python3.7/dist-packages (from scikit-fuzzy) (1.4.1)\n",
            "Requirement already satisfied: networkx>=1.9.0 in /usr/local/lib/python3.7/dist-packages (from scikit-fuzzy) (2.6.3)\n",
            "Building wheels for collected packages: scikit-fuzzy\n",
            "  Building wheel for scikit-fuzzy (setup.py) ... \u001b[?25l\u001b[?25hdone\n",
            "  Created wheel for scikit-fuzzy: filename=scikit_fuzzy-0.4.2-py3-none-any.whl size=894089 sha256=673dad63d8854dc989e1030a16f6b6d8bfc0abb67a55d2d072d7b46f1a76b42b\n",
            "  Stored in directory: /root/.cache/pip/wheels/d5/74/fc/38588a3d2e3f34f74588e6daa3aa5b0a322bd6f9420a707131\n",
            "Successfully built scikit-fuzzy\n",
            "Installing collected packages: scikit-fuzzy\n",
            "Successfully installed scikit-fuzzy-0.4.2\n"
          ]
        }
      ]
    },
    {
      "cell_type": "code",
      "metadata": {
        "id": "3Aip6iM-lCcz"
      },
      "source": [
        "import numpy as np\n",
        "import skfuzzy as fuzz\n",
        "import matplotlib.pyplot as plt\n",
        "\n",
        "%matplotlib inline\n",
        "# Menghasilkan Variabel Global\n",
        "\n",
        "x_permintaan = np.arange(0, 6000, 1)\n",
        "x_persediaan = np.arange(0, 700, 1)\n",
        "x_produksi  = np.arange(0, 9000, 1)\n",
        "\n"
      ],
      "execution_count": null,
      "outputs": []
    },
    {
      "cell_type": "code",
      "metadata": {
        "id": "KpfA-Mrn3ZpL"
      },
      "source": [
        "# Menghasilkan Fungsi Keanggotan Fuzzy\n",
        "permintaan_sd = fuzz.trapmf(x_permintaan, [0, 0, 1000, 5000])\n",
        "permintaan_by = fuzz.trapmf(x_permintaan, [1000, 5000, 6000, 6000])\n",
        "\n",
        "persediaan_sd = fuzz.trapmf(x_persediaan, [0, 0, 100, 600])\n",
        "persediaan_by = fuzz.trapmf(x_persediaan, [100, 600, 700, 700])\n",
        "\n",
        "produksi_kr  = fuzz.trapmf(x_produksi, [0, 0, 2000, 7000])\n",
        "produksi_tb  = fuzz.trapmf(x_produksi, [2000, 7000, 9000, 9000])\n",
        "\n",
        "\n"
      ],
      "execution_count": null,
      "outputs": []
    },
    {
      "cell_type": "code",
      "metadata": {
        "id": "34B4ku8-lsbs"
      },
      "source": [
        "permintaan = 4000\n",
        "persediaan = 300"
      ],
      "execution_count": null,
      "outputs": []
    },
    {
      "cell_type": "code",
      "metadata": {
        "colab": {
          "base_uri": "https://localhost:8080/"
        },
        "id": "Mr_dw7m7ltxU",
        "outputId": "3595481a-055e-4426-b9f6-0e45a93d2605"
      },
      "source": [
        "## Lur DEFuzzyfikasi\n",
        "in1 = []\n",
        "in1.append(fuzz.interp_membership(x_permintaan, permintaan_sd, permintaan))\n",
        "in1.append(fuzz.interp_membership(x_permintaan, permintaan_by, permintaan))\n",
        "in2 = []\n",
        "in2.append(fuzz.interp_membership(x_persediaan, persediaan_sd, persediaan))\n",
        "in2.append(fuzz.interp_membership(x_persediaan, persediaan_by, persediaan))\n",
        "\n",
        "print(\"Derajat Keanggotaan Persediaan \")\n",
        "if in1[0]>0 :\n",
        "    print(\"Sedikit : \"+str(in2[0]))\n",
        "if in1[1]>0 :\n",
        "    print(\"Banyak  : \"+ str(in2[1]))\n",
        "\n",
        "print(\"\")\n",
        "print(\"Derajat Keanggotaan Permintaan\")\n",
        "if in2[0]>0 :\n",
        "    print(\"Sedikit : \"+str(in1[0]))\n",
        "if in2[1]>0 :\n",
        "    print(\"Banyak  : \"+ str(in1[1]))"
      ],
      "execution_count": null,
      "outputs": [
        {
          "output_type": "stream",
          "name": "stdout",
          "text": [
            "Derajat Keanggotaan Persediaan \n",
            "Sedikit : 0.6\n",
            "Banyak  : 0.4\n",
            "\n",
            "Derajat Keanggotaan Permintaan\n",
            "Sedikit : 0.25\n",
            "Banyak  : 0.75\n"
          ]
        }
      ]
    },
    {
      "cell_type": "code",
      "metadata": {
        "colab": {
          "base_uri": "https://localhost:8080/"
        },
        "id": "3Cf1MNd3lzKe",
        "outputId": "9f4b50fd-e720-488b-bd75-389ac30038ff"
      },
      "source": [
        "## Peraturan dan Inferences Tsukamoto\n",
        "# krg = 7000 - (active_rule3)*5000\n",
        "# tbh = 5000*deg + 2000\n",
        "\n",
        "apred1  = np.fmin(in1[1], in2[1])\n",
        "print(\"nilai apred1 = \", apred1)\n",
        "z1      = 5000*apred1 + 2000\n",
        "\n",
        "apred2  = np.fmin(in1[0], in2[0])\n",
        "print(\"nilai apred2 = \", apred2)\n",
        "z2      = 7000-(apred2)*5000\n",
        "\n",
        "apred3  = np.fmin(in1[0], in2[1])\n",
        "print(\"nilai apred3 = \", apred3)\n",
        "z3      = 7000-(apred3)*5000\n",
        "\n",
        "apred4  = np.fmin(in1[1], in2[0])\n",
        "print(\"nilai apred4 = \", apred4)\n",
        "z4      = 5000*apred4 + 2000\n",
        "\n",
        "print(z1,z2,z3,z4)\n",
        "## Defazzyfication\n",
        "z = (apred1*z1 + apred2*z2 + apred3*z3 + apred4*z4)/ (apred1 + apred2+ apred3 + apred4)"
      ],
      "execution_count": null,
      "outputs": [
        {
          "output_type": "stream",
          "name": "stdout",
          "text": [
            "nilai apred1 =  0.4\n",
            "nilai apred2 =  0.25\n",
            "nilai apred3 =  0.25\n",
            "nilai apred4 =  0.6\n",
            "4000.0 5750.0 5750.0 5000.0\n"
          ]
        }
      ]
    },
    {
      "cell_type": "code",
      "metadata": {
        "colab": {
          "base_uri": "https://localhost:8080/"
        },
        "id": "Hlqc4jt_l4_E",
        "outputId": "4197ee55-8ae1-4ed4-a869-b121ed2e961f"
      },
      "source": [
        "print(\"Jadi, jumlah makanan jenis ABC yang harus diproduksi sebanyak : \"+str(int(z)))"
      ],
      "execution_count": null,
      "outputs": [
        {
          "output_type": "stream",
          "name": "stdout",
          "text": [
            "Jadi, jumlah makanan jenis ABC yang harus diproduksi sebanyak : 4983\n"
          ]
        }
      ]
    }
  ]
}